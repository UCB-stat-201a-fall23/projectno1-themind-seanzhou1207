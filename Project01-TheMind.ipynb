{
 "cells": [
  {
   "cell_type": "markdown",
   "id": "4f2e3179-b4ae-4243-92eb-ed8d86df7c10",
   "metadata": {
    "user_expressions": []
   },
   "source": [
    "## Project No1 - The Mind\n",
    "\n",
    "Refer to the `README.md` for further information about how to play the game and the objectives for this first project. \n",
    "\n",
    "When writing code, we recommend you to be as modular as possible. For example, if you are running multiple experiments for different choices of parameters, it may be convenient to write a function that does one experiment and then make multiple calls to the same function. Follow the _do not repeat yourself_ rule when writing code! "
   ]
  },
  {
   "cell_type": "code",
   "execution_count": 2,
   "id": "130e891e-23be-4df7-8209-9c95c8ec6852",
   "metadata": {
    "tags": []
   },
   "outputs": [
    {
     "name": "stderr",
     "output_type": "stream",
     "text": [
      "Matplotlib is building the font cache; this may take a moment.\n"
     ]
    }
   ],
   "source": [
    "import numpy as np\n",
    "import matplotlib.pyplot as plt"
   ]
  },
  {
   "cell_type": "markdown",
   "id": "d44bf2d2-6100-47ca-a6d3-55911388bc7e",
   "metadata": {
    "user_expressions": []
   },
   "source": [
    "Let's start by creating a function that generates one sample of the game. Feel free to change this code as you find it suitable, for example by changing how the sampling is created or if you want to sample cards with replacement (this could be useful for the last questions)."
   ]
  },
  {
   "cell_type": "code",
   "execution_count": 3,
   "id": "e4c2b253-1621-459a-ba5a-a76d6f46a64b",
   "metadata": {
    "tags": []
   },
   "outputs": [],
   "source": [
    "def sample_cards(N, n, k):\n",
    "    \"\"\"\n",
    "    Generates a simulated sample of how the cards are shuffled among players. \n",
    "    \n",
    "    Arguments: \n",
    "        - N : Total number of cards\n",
    "        - n : Number of players\n",
    "        - k : Number of cards per player\n",
    "        \n",
    "    Returns: \n",
    "        - 2D numpy array where each row represent each player and each column their card in ascending order. \n",
    "    \"\"\"\n",
    "    \n",
    "    assert n * k <= N, \"There are not enough cards for all the players!\"\n",
    "    \n",
    "    _cards = np.random.choice(a=np.arange(1, N+1), size=n*k, replace=False)\n",
    "    _cards = _cards.reshape(n,k)\n",
    "    _cards.sort(axis=1)\n",
    "    return _cards"
   ]
  },
  {
   "cell_type": "markdown",
   "id": "efee53b7-0463-4c51-b106-e5d26fdc5a7e",
   "metadata": {
    "user_expressions": []
   },
   "source": [
    "Now we can just generate how cards are distributed among players by simply making a call to this function with the desired parameters. "
   ]
  },
  {
   "cell_type": "code",
   "execution_count": 4,
   "id": "1331d9b0-e485-4417-8c7d-4ce407c6e693",
   "metadata": {
    "tags": []
   },
   "outputs": [
    {
     "data": {
      "text/plain": [
       "array([[ 24,  46,  75],\n",
       "       [ 47,  66,  70],\n",
       "       [  6,  27,  85],\n",
       "       [ 26,  39,  74],\n",
       "       [ 23,  30,  77],\n",
       "       [ 42,  76, 100]])"
      ]
     },
     "execution_count": 4,
     "metadata": {},
     "output_type": "execute_result"
    }
   ],
   "source": [
    "cards = sample_cards(100, 6, 3)\n",
    "cards"
   ]
  },
  {
   "cell_type": "markdown",
   "id": "2f7cfb3b-b3bc-4064-92a4-35e96df2847d",
   "metadata": {
    "user_expressions": []
   },
   "source": [
    "and access the cards of each player with "
   ]
  },
  {
   "cell_type": "code",
   "execution_count": 5,
   "id": "36f4998e-61e0-4acd-b292-b447a0d6a8ed",
   "metadata": {
    "tags": []
   },
   "outputs": [
    {
     "data": {
      "text/plain": [
       "(array([24, 46, 75]), array([47, 66, 70]))"
      ]
     },
     "execution_count": 5,
     "metadata": {},
     "output_type": "execute_result"
    }
   ],
   "source": [
    "player0 = cards[0,:]\n",
    "player1 = cards[1,:]\n",
    "player0, player1"
   ]
  },
  {
   "cell_type": "markdown",
   "id": "08d9de1a-3dc6-49ba-b08c-dba034839906",
   "metadata": {
    "user_expressions": []
   },
   "source": [
    "The lowest card in the game is"
   ]
  },
  {
   "cell_type": "code",
   "execution_count": 6,
   "id": "f2e54641-0ec3-4451-b8b3-371580ede9b7",
   "metadata": {
    "tags": []
   },
   "outputs": [
    {
     "data": {
      "text/plain": [
       "6"
      ]
     },
     "execution_count": 6,
     "metadata": {},
     "output_type": "execute_result"
    }
   ],
   "source": [
    "np.min(cards)"
   ]
  },
  {
   "cell_type": "code",
   "execution_count": 7,
   "id": "2f4766c6-7334-4d24-a0b5-20e5bfd44a63",
   "metadata": {
    "tags": []
   },
   "outputs": [
    {
     "data": {
      "text/plain": [
       "array([1, 2, 3, 4])"
      ]
     },
     "execution_count": 7,
     "metadata": {},
     "output_type": "execute_result"
    }
   ],
   "source": [
    "np.arange(1, 5)"
   ]
  },
  {
   "cell_type": "markdown",
   "id": "755260c8-4ec3-49ed-a783-99629dd51cb8",
   "metadata": {
    "user_expressions": []
   },
   "source": [
    "### 1. What is the distribution of the lowest number? \n",
    "\n",
    "Repeat the sampling of the cards multiple times for the same choice of `N`, `n` and `k` and plot the distribution of the lowest number in the sample. Use an [histogram](https://matplotlib.org/stable/api/_as_gen/matplotlib.pyplot.hist.html) to plot the distribution and set the bins to be the available integer number cards. "
   ]
  },
  {
   "cell_type": "code",
   "execution_count": 8,
   "id": "12fe9c17-000b-472a-8380-915f6dfda5df",
   "metadata": {
    "tags": []
   },
   "outputs": [
    {
     "data": {
      "image/png": "[encoded data removed]",
      "text/plain": [
       "<Figure size 640x480 with 1 Axes>"
      ]
     },
     "metadata": {},
     "output_type": "display_data"
    }
   ],
   "source": [
    "# To Do cell\n",
    "repeat=1000\n",
    "lows= []\n",
    "N=100\n",
    "n=6\n",
    "k=3\n",
    "for iterations in range(repeat):\n",
    "    cards = sample_cards(N, n, k)\n",
    "    lows.append(np.min(cards))\n",
    "plt.hist(lows,bins=np.arange(0, 50),density=True)\n",
    "plt.show()"
   ]
  },
  {
   "cell_type": "markdown",
   "id": "b9b63c3c-5cd0-4090-910b-06ded98c5497",
   "metadata": {
    "user_expressions": []
   },
   "source": [
    "### 2. What is the distribution of the largest gap?\n",
    "\n",
    "For each simulation, found the largest distance between consecutive numbers in the game. To make this easy, let us first consider the largest gap among the pool of **all** the cards among players (if the largest gap is happening in the hand of one single player, that is ok). This will make the analysis more simple. "
   ]
  },
  {
   "cell_type": "code",
   "execution_count": 9,
   "id": "96095727-fa79-4b25-a2d9-900302fd5f5b",
   "metadata": {
    "tags": []
   },
   "outputs": [
    {
     "data": {
      "text/plain": [
       "(array([0.000e+00, 0.000e+00, 0.000e+00, 0.000e+00, 0.000e+00, 0.000e+00,\n",
       "        0.000e+00, 1.100e+01, 5.200e+01, 2.060e+02, 4.080e+02, 6.860e+02,\n",
       "        8.360e+02, 9.940e+02, 1.082e+03, 9.660e+02, 9.130e+02, 7.860e+02,\n",
       "        6.570e+02, 4.920e+02, 3.990e+02, 3.190e+02, 2.950e+02, 1.960e+02,\n",
       "        1.790e+02, 1.270e+02, 1.030e+02, 6.800e+01, 5.800e+01, 3.500e+01,\n",
       "        3.400e+01, 2.500e+01, 2.500e+01, 1.200e+01, 1.300e+01, 9.000e+00,\n",
       "        2.000e+00, 6.000e+00, 2.000e+00, 1.000e+00, 2.000e+00, 0.000e+00,\n",
       "        0.000e+00, 0.000e+00, 0.000e+00, 1.000e+00, 0.000e+00, 0.000e+00]),\n",
       " array([ 1.,  2.,  3.,  4.,  5.,  6.,  7.,  8.,  9., 10., 11., 12., 13.,\n",
       "        14., 15., 16., 17., 18., 19., 20., 21., 22., 23., 24., 25., 26.,\n",
       "        27., 28., 29., 30., 31., 32., 33., 34., 35., 36., 37., 38., 39.,\n",
       "        40., 41., 42., 43., 44., 45., 46., 47., 48., 49.]),\n",
       " <BarContainer object of 48 artists>)"
      ]
     },
     "execution_count": 9,
     "metadata": {},
     "output_type": "execute_result"
    },
    {
     "data": {
      "image/png": "[encoded data removed]",
      "text/plain": [
       "<Figure size 640x480 with 1 Axes>"
      ]
     },
     "metadata": {},
     "output_type": "display_data"
    }
   ],
   "source": [
    "# To Do cell\n",
    "rep = 10000\n",
    "N = 100\n",
    "n = 6\n",
    "k = 3\n",
    "\n",
    "np.random.seed(123)\n",
    "\n",
    "def get_largest_gap(num_rep, N, n, k, same_player = True):\n",
    "    \"\"\"\n",
    "    Run a simulation to get the distribution of the largest gap between player's ordered cards. \n",
    "    \n",
    "    Arguments: \n",
    "        - num_rep : number of repititions\n",
    "        - N : Total number of cards\n",
    "        - n : Number of players\n",
    "        - k : Number of cards per player\n",
    "        - same_player : True if we allow the gap to come from the same hand\n",
    "        \n",
    "    Returns: \n",
    "        - 1D numpy array of the simulated largest gaps. \n",
    "    \"\"\"\n",
    "    gaps = []\n",
    "    for i in range(num_rep):\n",
    "        sample = sample_cards(N=N, n=n, k=3)\n",
    "\n",
    "        ids = np.tile(np.arange(1, n+1), (k, 1)).T \n",
    "\n",
    "        #Order the cards\n",
    "        flat_cards = sample.flatten()\n",
    "        flat_ids = ids.flatten()\n",
    "        order_ids = np.argsort(flat_cards)\n",
    "        order_cards = flat_cards[order_ids]\n",
    "        order_players = flat_ids[order_ids]\n",
    "\n",
    "        gap_cards = np.diff(order_cards)\n",
    "        \n",
    "        if same_player:\n",
    "            max_gap = np.max(gap_cards)\n",
    "            \n",
    "            gaps.append(max_gap)\n",
    "        \n",
    "        else:\n",
    "            gap_ids = np.diff(order_players)\n",
    "            gap_unique = gap_cards * (gap_ids != 0)\n",
    "            max_gap_diff = np.max(gap_unique)\n",
    "            gaps.append(max_gap_diff)\n",
    "        \n",
    "    return gaps\n",
    "\n",
    "gaps_1 = get_largest_gap(rep, N, n, k)\n",
    "plt.hist(x = gaps_1, bins = np.arange(1,50))"
   ]
  },
  {
   "cell_type": "markdown",
   "id": "6c0d3228-b157-4b86-a28a-1e5dc629a17c",
   "metadata": {
    "user_expressions": []
   },
   "source": [
    "Repeat the experiment but know compute the largest gap between cards of different players. This is the gap that actually matters for the purposes of the game: what is the maximum number of numbers that a player will have to wait before playing the next card?"
   ]
  },
  {
   "cell_type": "code",
   "execution_count": 10,
   "id": "d41dc60f-3789-451b-8b70-3b6461dd5a26",
   "metadata": {
    "tags": []
   },
   "outputs": [
    {
     "data": {
      "text/plain": [
       "(array([0.000e+00, 0.000e+00, 0.000e+00, 0.000e+00, 1.000e+00, 8.000e+00,\n",
       "        1.200e+01, 5.600e+01, 1.670e+02, 3.280e+02, 5.900e+02, 7.890e+02,\n",
       "        9.580e+02, 1.015e+03, 1.005e+03, 8.800e+02, 8.470e+02, 7.040e+02,\n",
       "        5.400e+02, 4.430e+02, 3.350e+02, 2.700e+02, 2.420e+02, 1.830e+02,\n",
       "        1.260e+02, 1.220e+02, 1.060e+02, 6.400e+01, 5.300e+01, 4.200e+01,\n",
       "        2.500e+01, 1.900e+01, 1.400e+01, 1.600e+01, 1.600e+01, 4.000e+00,\n",
       "        5.000e+00, 7.000e+00, 1.000e+00, 0.000e+00, 3.000e+00, 0.000e+00,\n",
       "        2.000e+00, 1.000e+00, 1.000e+00, 0.000e+00, 0.000e+00, 0.000e+00]),\n",
       " array([ 1.,  2.,  3.,  4.,  5.,  6.,  7.,  8.,  9., 10., 11., 12., 13.,\n",
       "        14., 15., 16., 17., 18., 19., 20., 21., 22., 23., 24., 25., 26.,\n",
       "        27., 28., 29., 30., 31., 32., 33., 34., 35., 36., 37., 38., 39.,\n",
       "        40., 41., 42., 43., 44., 45., 46., 47., 48., 49.]),\n",
       " <BarContainer object of 48 artists>)"
      ]
     },
     "execution_count": 10,
     "metadata": {},
     "output_type": "execute_result"
    },
    {
     "data": {
      "image/png": "[encoded data removed]",
      "text/plain": [
       "<Figure size 640x480 with 1 Axes>"
      ]
     },
     "metadata": {},
     "output_type": "display_data"
    }
   ],
   "source": [
    "gaps_2 = get_largest_gap(rep, N, n, k, False)\n",
    "plt.hist(x = gaps_2, bins = np.arange(1,50))"
   ]
  },
  {
   "cell_type": "markdown",
   "id": "d16b0bb5-9d21-4b46-99ec-15b385e5214a",
   "metadata": {
    "user_expressions": []
   },
   "source": [
    "How does these compare? Run simulations for different choices of the number of cards and players and see when the difference between these two is larger. \n",
    "\n",
    "Compute the mean of the two distributions. When this difference is larger? How does this depends of the total number of players `n`?"
   ]
  },
  {
   "cell_type": "code",
   "execution_count": 11,
   "id": "334b2ade-fa30-48d4-b74f-be8553be7212",
   "metadata": {
    "tags": []
   },
   "outputs": [
    {
     "data": {
      "text/plain": [
       "Text(0.5, 0, 'Consecutive Difference')"
      ]
     },
     "execution_count": 11,
     "metadata": {},
     "output_type": "execute_result"
    },
    {
     "data": {
      "image/png": "[encoded data removed]",
      "text/plain": [
       "<Figure size 1200x800 with 1 Axes>"
      ]
     },
     "metadata": {},
     "output_type": "display_data"
    }
   ],
   "source": [
    "# To Do cell\n",
    "fig1 = plt.figure(figsize=(12,8))\n",
    "\n",
    "plt.hist(x = gaps_1, bins = np.arange(1,50), label = \"Diff when same player is allowed\")\n",
    "plt.hist(x = gaps_2,bins = np.arange(1,50), color = 'red', label = \"Diff when same player is not allowed\")\n",
    "\n",
    "plt.legend()\n",
    "plt.ylabel('Count')\n",
    "plt.xlabel('Consecutive Difference')"
   ]
  },
  {
   "cell_type": "markdown",
   "id": "4862750c-f1c4-42fe-a6cf-329d33f39d38",
   "metadata": {
    "tags": [],
    "user_expressions": []
   },
   "source": [
    "We see that the distribution generated from question 1 dominates the one generated from question 2. This is expected because in question 1, we are calculating maximums of consecutive numbers from a larger set, meaning the probability of seeing a larger number is larger. "
   ]
  },
  {
   "cell_type": "code",
   "execution_count": 12,
   "id": "9a97ae53-1477-4825-b8a3-a3fe7a566685",
   "metadata": {
    "tags": []
   },
   "outputs": [],
   "source": [
    "def simulate_diff_n (player_num):\n",
    "    \n",
    "    mean_diff = []\n",
    "    for i in range(2, player_num+1):\n",
    "        n = i\n",
    "        gaps_1 = get_largest_gap(rep, N, n, k)\n",
    "        gaps_2 = get_largest_gap(rep, N, n, k, False)\n",
    "        \n",
    "        mean_diff.append(np.round(np.mean(gaps_1) - np.mean(gaps_2)))\n",
    "        \n",
    "        print(np.mean(gaps_1) - np.mean(gaps_2), \"for n =\", n)\n",
    "        \n",
    "    return mean_diff"
   ]
  },
  {
   "cell_type": "code",
   "execution_count": 13,
   "id": "62cd1428-e45a-44c7-a34e-17cf514e3f3c",
   "metadata": {
    "tags": []
   },
   "outputs": [
    {
     "name": "stdout",
     "output_type": "stream",
     "text": [
      "7.098999999999997 for n = 2\n",
      "2.990500000000001 for n = 3\n",
      "1.5228000000000002 for n = 4\n",
      "0.8953000000000024 for n = 5\n",
      "0.593399999999999 for n = 6\n",
      "0.373899999999999 for n = 7\n",
      "0.3678000000000008 for n = 8\n",
      "0.21729999999999983 for n = 9\n",
      "0.2475000000000005 for n = 10\n",
      "0.13279999999999959 for n = 11\n",
      "0.15549999999999997 for n = 12\n",
      "0.13129999999999953 for n = 13\n",
      "0.07140000000000057 for n = 14\n",
      "0.07540000000000013 for n = 15\n",
      "0.05229999999999979 for n = 16\n",
      "0.07509999999999994 for n = 17\n",
      "0.07790000000000052 for n = 18\n",
      "0.04400000000000048 for n = 19\n",
      "0.05679999999999996 for n = 20\n"
     ]
    }
   ],
   "source": [
    "np.random.seed(123)\n",
    "\n",
    "player_num = 20\n",
    "y = simulate_diff_n(player_num)"
   ]
  },
  {
   "cell_type": "code",
   "execution_count": 14,
   "id": "cd1274ee-8fa8-4e62-8e9a-6f5e3c2396dc",
   "metadata": {
    "tags": []
   },
   "outputs": [
    {
     "data": {
      "text/plain": [
       "Text(0.5, 1.0, 'Number of players versus difference in distribution means')"
      ]
     },
     "execution_count": 14,
     "metadata": {},
     "output_type": "execute_result"
    },
    {
     "data": {
      "image/png": "[encoded data removed]",
      "text/plain": [
       "<Figure size 1200x800 with 1 Axes>"
      ]
     },
     "metadata": {},
     "output_type": "display_data"
    }
   ],
   "source": [
    "fig1 = plt.figure(figsize=(12,8))\n",
    "\n",
    "plt.scatter(x = np.arange(2, player_num+1), y = y)\n",
    "plt.xlabel('Number of players')\n",
    "plt.ylabel('Difference in means')\n",
    "plt.title(\"Number of players versus difference in distribution means\")"
   ]
  },
  {
   "cell_type": "markdown",
   "id": "c14b7f5b-23b7-4a73-b67b-8d4433fae9e2",
   "metadata": {
    "user_expressions": []
   },
   "source": [
    "### 3. Deriving distributions\n",
    "\n",
    "For this section, we are going to use the random sampling generating process from _The Mind_ to investigate and find some familiar distributions."
   ]
  },
  {
   "cell_type": "markdown",
   "id": "366396c5-7a5f-461c-a86e-0a5b528e3791",
   "metadata": {
    "user_expressions": []
   },
   "source": [
    "### 3.1. Binomial Distribution \n",
    "\n",
    "Can you think about any way of deriving the binomial distribution? Based on the output of one single game (function `sample_game()`), try to derive something that has Binomial distribution for certain parameter $p$. Run multiple simulations to see this and compare the obtained empirical distribution with the distribution of the binomial distribution (check `numpy.random.binomial` and `scipy.stats.binom`). "
   ]
  },
  {
   "cell_type": "code",
   "execution_count": 15,
   "id": "a19d60be-1254-4b20-a2a6-bfbca103f41c",
   "metadata": {},
   "outputs": [
    {
     "data": {
      "text/plain": [
       "0.6369"
      ]
     },
     "execution_count": 15,
     "metadata": {},
     "output_type": "execute_result"
    }
   ],
   "source": [
    "# To Do cell\n",
    "#Get the result of one draw to be bernoulli, then get binomial\n",
    "np.mean(np.array(gaps_1) - np.array(gaps_2))"
   ]
  },
  {
   "cell_type": "markdown",
   "id": "4fd361e5-2c9c-4c78-9987-d73833be1f19",
   "metadata": {
    "user_expressions": []
   },
   "source": [
    "### 3.2. Beta Distribution\n",
    "\n",
    "The [order statistics](https://en.wikipedia.org/wiki/Order_statistic) of the uniform distribution are such that follow a Beta distribution. If well here we are not exactly sampling real numbers in $[0,1]$ following the uniform distribution, you can imagine that sampling one single number without repetition from $\\{ 1, 2, 3, \\ldots, N \\}$ is not very different...\n",
    "\n",
    "Compare the distribution of the lowest number in the sample (Part 1) with a [Beta distribution](https://en.wikipedia.org/wiki/Beta_distribution) with adequate choices of parameters. In order to do this, notice that the $k$th order statistics of a sample of $n$ uniformly distributed points in $[0,1]$ is $\\text{Beta}(k, n+1-k)$ (These $n$ and $k$ are not the same as before, you need to pick the right values of these)."
   ]
  },
  {
   "cell_type": "code",
   "execution_count": 16,
   "id": "a323b0ca-7bf6-48c1-a9f1-b87bc08d080c",
   "metadata": {},
   "outputs": [],
   "source": [
    "# To Do cell"
   ]
  },
  {
   "cell_type": "markdown",
   "id": "5bc7456e-e4f1-48af-92ef-cbe4177f9871",
   "metadata": {
    "user_expressions": []
   },
   "source": [
    "### 3.3. Exponential Distribution\n",
    "\n",
    "If we call $U_1$ the minimum number in the sample (Part 1), then make an histogram with the distribution of the transformed random variable given by \n",
    "$$\n",
    "X = - \\ln \\left( 1 - \\frac{U_1}{N} \\right)\n",
    "$$\n",
    "and compare this with the distribution of an exponential random variable with parameter $nk$, the total number of cards in the game. "
   ]
  },
  {
   "cell_type": "markdown",
   "id": "0ad19b6e-5603-4b66-b379-6b79f5aaedf6",
   "metadata": {
    "user_expressions": []
   },
   "source": [
    "### 4. What happens when $n * k << N$?\n",
    "\n",
    "Some of the distribution we saw in previous sections are just approximate. Study what happens when we increase the number of cards. Try to understand how the cases of sampling with and without reposition compare as $n * k << N$. What do you expect to see in these cases? When the difference between the two sampling strategies will lead to similar or different results. "
   ]
  },
  {
   "cell_type": "code",
   "execution_count": 17,
   "id": "bad3cabc-f8bc-482e-ac6c-1d684dce5eed",
   "metadata": {},
   "outputs": [],
   "source": [
    "# To Do cell"
   ]
  },
  {
   "cell_type": "markdown",
   "id": "d944ef54-38c2-46dc-a74f-2383625f9021",
   "metadata": {
    "user_expressions": []
   },
   "source": [
    "### Contribution statement\n",
    "\n",
    "Please include a list of the students you work with along this project (including yourself). Include both names and GitHub usernames of the people you collaborated with. Maximum of three persons per group. \n",
    "- Member No1: \n",
    "- Member No2: \n",
    "- Member No3:"
   ]
  },
  {
   "cell_type": "code",
   "execution_count": null,
   "id": "4ad663c4-c392-40c2-a35d-9edaff1b5d05",
   "metadata": {},
   "outputs": [],
   "source": []
  },
  {
   "cell_type": "code",
   "execution_count": null,
   "id": "db9cf4da-08d8-4d95-8c74-586604d52733",
   "metadata": {},
   "outputs": [],
   "source": []
  }
 ],
 "metadata": {
  "kernelspec": {
   "display_name": "Python 3 (ipykernel)",
   "language": "python",
   "name": "python3"
  },
  "language_info": {
   "codemirror_mode": {
    "name": "ipython",
    "version": 3
   },
   "file_extension": ".py",
   "mimetype": "text/x-python",
   "name": "python",
   "nbconvert_exporter": "python",
   "pygments_lexer": "ipython3",
   "version": "3.11.0"
  }
 },
 "nbformat": 4,
 "nbformat_minor": 5
}
